{
 "cells": [
  {
   "cell_type": "code",
   "execution_count": 1,
   "metadata": {},
   "outputs": [
    {
     "name": "stdout",
     "output_type": "stream",
     "text": [
      "hello github!\n"
     ]
    }
   ],
   "source": [
    "print(\"hello github!\")"
   ]
  },
  {
   "cell_type": "code",
   "execution_count": 4,
   "metadata": {},
   "outputs": [
    {
     "name": "stdout",
     "output_type": "stream",
     "text": [
      "Collecting imgaug\n",
      "\u001b[?25l  Downloading https://files.pythonhosted.org/packages/af/fc/c56a7da8c23122b7c5325b941850013880a7a93c21dc95e2b1ecd4750108/imgaug-0.2.7-py3-none-any.whl (644kB)\n",
      "\u001b[K    100% |████████████████████████████████| 645kB 15.7MB/s \n",
      "\u001b[?25hCollecting Shapely (from imgaug)\n",
      "\u001b[?25l  Downloading https://files.pythonhosted.org/packages/38/b6/b53f19062afd49bb5abd049aeed36f13bf8d57ef8f3fa07a5203531a0252/Shapely-1.6.4.post2-cp36-cp36m-manylinux1_x86_64.whl (1.5MB)\n",
      "\u001b[K    100% |████████████████████████████████| 1.5MB 7.1MB/s \n",
      "\u001b[?25hRequirement already satisfied: Pillow in ./anaconda3/lib/python3.6/site-packages (from imgaug) (5.3.0)\n",
      "Requirement already satisfied: scikit-image>=0.11.0 in ./anaconda3/lib/python3.6/site-packages (from imgaug) (0.14.1)\n",
      "Requirement already satisfied: imageio in ./anaconda3/lib/python3.6/site-packages (from imgaug) (2.4.1)\n",
      "Requirement already satisfied: numpy>=1.7.0 in ./anaconda3/lib/python3.6/site-packages (from imgaug) (1.15.4)\n",
      "Requirement already satisfied: matplotlib in ./anaconda3/lib/python3.6/site-packages (from imgaug) (3.0.2)\n",
      "Requirement already satisfied: six in ./anaconda3/lib/python3.6/site-packages (from imgaug) (1.12.0)\n",
      "Requirement already satisfied: scipy in ./anaconda3/lib/python3.6/site-packages (from imgaug) (1.1.0)\n",
      "Requirement already satisfied: networkx>=1.8 in ./anaconda3/lib/python3.6/site-packages (from scikit-image>=0.11.0->imgaug) (2.2)\n",
      "Requirement already satisfied: PyWavelets>=0.4.0 in ./anaconda3/lib/python3.6/site-packages (from scikit-image>=0.11.0->imgaug) (1.0.1)\n",
      "Requirement already satisfied: dask[array]>=0.9.0 in ./anaconda3/lib/python3.6/site-packages (from scikit-image>=0.11.0->imgaug) (1.0.0)\n",
      "Requirement already satisfied: cloudpickle>=0.2.1 in ./anaconda3/lib/python3.6/site-packages (from scikit-image>=0.11.0->imgaug) (0.6.1)\n",
      "Requirement already satisfied: cycler>=0.10 in ./anaconda3/lib/python3.6/site-packages (from matplotlib->imgaug) (0.10.0)\n",
      "Requirement already satisfied: kiwisolver>=1.0.1 in ./anaconda3/lib/python3.6/site-packages (from matplotlib->imgaug) (1.0.1)\n",
      "Requirement already satisfied: pyparsing!=2.0.4,!=2.1.2,!=2.1.6,>=2.0.1 in ./anaconda3/lib/python3.6/site-packages (from matplotlib->imgaug) (2.3.0)\n",
      "Requirement already satisfied: python-dateutil>=2.1 in ./anaconda3/lib/python3.6/site-packages (from matplotlib->imgaug) (2.7.5)\n",
      "Requirement already satisfied: decorator>=4.3.0 in ./anaconda3/lib/python3.6/site-packages (from networkx>=1.8->scikit-image>=0.11.0->imgaug) (4.3.0)\n",
      "Requirement already satisfied: toolz>=0.7.3; extra == \"array\" in ./anaconda3/lib/python3.6/site-packages (from dask[array]>=0.9.0->scikit-image>=0.11.0->imgaug) (0.9.0)\n",
      "Requirement already satisfied: setuptools in ./anaconda3/lib/python3.6/site-packages (from kiwisolver>=1.0.1->matplotlib->imgaug) (40.6.3)\n",
      "Installing collected packages: Shapely, imgaug\n",
      "Successfully installed Shapely-1.6.4.post2 imgaug-0.2.7\n"
     ]
    }
   ],
   "source": [
    "!pip install imgaug"
   ]
  },
  {
   "cell_type": "code",
   "execution_count": 7,
   "metadata": {},
   "outputs": [
    {
     "name": "stdout",
     "output_type": "stream",
     "text": [
      "/home/server\n"
     ]
    }
   ],
   "source": [
    "! pwd"
   ]
  },
  {
   "cell_type": "code",
   "execution_count": 11,
   "metadata": {},
   "outputs": [
    {
     "data": {
      "text/plain": [
       "True"
      ]
     },
     "execution_count": 11,
     "metadata": {},
     "output_type": "execute_result"
    }
   ],
   "source": [
    "from imgaug import augmenters as iaa\n",
    "import cv2\n",
    "import os\n",
    "\n",
    "def load_images_from_folder(folder):\n",
    "    images = []\n",
    "    for filename in os.listdir(folder):\n",
    "        img = cv2.imread(os.path.join(folder,filename))\n",
    "        if img is not None:\n",
    "            images.append(img)\n",
    "    return images\n",
    "\n",
    "seq = iaa.Sequential([\n",
    "    iaa.Crop(px=(0, 16)),\n",
    "    iaa.Fliplr(0.5),\n",
    "    iaa.GaussianBlur(sigma=(0, 3.0))\n",
    "])\n",
    "\n",
    "imglist = []\n",
    "\n",
    "img = cv2.imread('condasource/test.jpg')\n",
    "\n",
    "imglist.append(img)\n",
    "\n",
    "images_aug = seq.augment_images(imglist)\n",
    "\n",
    "cv2.imwrite('output/new.jpg', images_aug[0])\n",
    "\n"
   ]
  }
 ],
 "metadata": {
  "kernelspec": {
   "display_name": "Python 3",
   "language": "python",
   "name": "python3"
  },
  "language_info": {
   "codemirror_mode": {
    "name": "ipython",
    "version": 3
   },
   "file_extension": ".py",
   "mimetype": "text/x-python",
   "name": "python",
   "nbconvert_exporter": "python",
   "pygments_lexer": "ipython3",
   "version": "3.6.7"
  }
 },
 "nbformat": 4,
 "nbformat_minor": 2
}
